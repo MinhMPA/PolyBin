{
 "cells": [
  {
   "cell_type": "code",
   "execution_count": 73,
   "id": "5901d3e5-ff3b-42b8-9d94-52cd8b908811",
   "metadata": {},
   "outputs": [
    {
     "name": "stdout",
     "output_type": "stream",
     "text": [
      "%pylab is deprecated, use %matplotlib inline and import the required libraries.\n",
      "Populating the interactive namespace from numpy and matplotlib\n"
     ]
    }
   ],
   "source": [
    "%pylab inline"
   ]
  },
  {
   "cell_type": "code",
   "execution_count": 74,
   "id": "081924ee-21b6-462b-b2ae-17afed978045",
   "metadata": {},
   "outputs": [],
   "source": [
    "### Compute the odd-parity CMB trispectrum of Planck 2018 data or FFP10 simulations\n",
    "# Here, we compute the contribution to the Fisher matrix from a single realization\n",
    "\n",
    "########################### IMPORTS ###########################\n",
    "import os, sys, healpy, fitsio, time, numpy as np\n",
    "sys.path.append('../')\n",
    "import polybin as pb\n",
    "from scipy.interpolate import InterpolatedUnivariateSpline\n",
    "init = time.time()"
   ]
  },
  {
   "cell_type": "code",
   "execution_count": 75,
   "id": "a376ce39-7841-4f9f-ba00-803f088f996a",
   "metadata": {},
   "outputs": [
    {
     "ename": "Exception",
     "evalue": "Fisher index not specified!",
     "output_type": "error",
     "traceback": [
      "\u001b[0;31m---------------------------------------------------------------------------\u001b[0m",
      "\u001b[0;31mException\u001b[0m                                 Traceback (most recent call last)",
      "Cell \u001b[0;32mIn[75], line 2\u001b[0m\n\u001b[1;32m      1\u001b[0m \u001b[38;5;28;01mif\u001b[39;00m \u001b[38;5;28mlen\u001b[39m(sys\u001b[38;5;241m.\u001b[39margv)\u001b[38;5;241m!=\u001b[39m\u001b[38;5;241m2\u001b[39m:\n\u001b[0;32m----> 2\u001b[0m     \u001b[38;5;28;01mraise\u001b[39;00m \u001b[38;5;167;01mException\u001b[39;00m(\u001b[38;5;124m\"\u001b[39m\u001b[38;5;124mFisher index not specified!\u001b[39m\u001b[38;5;124m\"\u001b[39m)\n\u001b[1;32m      3\u001b[0m index \u001b[38;5;241m=\u001b[39m \u001b[38;5;28mint\u001b[39m(sys\u001b[38;5;241m.\u001b[39margv[\u001b[38;5;241m1\u001b[39m])\n",
      "\u001b[0;31mException\u001b[0m: Fisher index not specified!"
     ]
    }
   ],
   "source": [
    "if len(sys.argv)!=2:\n",
    "    raise Exception(\"Fisher index not specified!\")\n",
    "index = int(sys.argv[1])"
   ]
  },
  {
   "cell_type": "code",
   "execution_count": 76,
   "id": "eb585938-d20e-4c6b-873a-c9be2c20f92c",
   "metadata": {},
   "outputs": [],
   "source": [
    "index = 42"
   ]
  },
  {
   "cell_type": "code",
   "execution_count": 82,
   "id": "a9ad9a32-1e83-4c22-bc8b-1c967f2325ab",
   "metadata": {},
   "outputs": [],
   "source": [
    "########################### SETTINGS ###########################\n",
    "\n",
    "# HEALPix settings\n",
    "Nside = 256\n",
    "lmax = 3*Nside-1\n",
    "\n",
    "fields = ['TTTT','TTTE','TTEE','TETE','TEEE','EEEE']\n",
    "parity = 'odd'\n",
    "\n",
    "# Binning parameters\n",
    "l_bins = np.load('l_bins_data.npy')\n",
    "l_bins_squeeze = l_bins.copy()\n",
    "L_bins = l_bins.copy()\n",
    "print(\"binned lmax: %d, HEALPix lmax: %d\"%(np.max(l_bins_squeeze),lmax))\n",
    "\n",
    "# Whether to include bins only partially satisfying triangle conditions\n",
    "include_partial_triangles = False\n",
    "\n",
    "# Whether to include the pixel window function\n",
    "# This should be set to True, unless we generate maps at the same realization we analyze them!\n",
    "include_pixel_window = True\n",
    "\n",
    "# whether to add a separable reduced bispectrum to the input maps\n",
    "include_synthetic_b = False\n",
    "\n",
    "# I/O\n",
    "root = '/mnt/ceph/users/ophilcox/Oliver/planck_maps/'\n",
    "outroot = '/mnt/ceph/users/ophilcox/planck_trispectrum_pol/TE_odd/'\n",
    "datafile = 'COM_CMB_IQU-smica_2048_R3.00_full.fits'  # Data map (from 1905.05697, 2018 SMICA map)\n",
    "\n",
    "# Beam (temperature and polarization)\n",
    "l = np.arange(lmax+1)\n",
    "beam_datT = fitsio.read(root+datafile,ext=2)['INT_BEAM']\n",
    "beam_intT = InterpolatedUnivariateSpline(np.arange(len(beam_datT)),beam_datT)\n",
    "beamT = beam_intT(l)*(l>=2)+(l<2)*1\n",
    "beam_datP = fitsio.read(root+datafile,ext=2)['POL_BEAM']\n",
    "beam_intP = InterpolatedUnivariateSpline(np.arange(len(beam_datP)),beam_datP)\n",
    "beamP = beam_intP(l)*(l>=2)+(l<2)*1\n",
    "beam = [beamT, beamP]\n",
    "\n",
    "# Base class\n",
    "Sl_weighting = np.load('Sl_weighting_pol256.npy',allow_pickle=True).flat[0]\n",
    "assert len(Sl_weighting['TT'])==lmax+1\n",
    "base = pb.PolyBin(Nside, Sl_weighting, beam=beam, pol=True, backend='libsharp', include_pixel_window=include_pixel_window)\n",
    "\n",
    "# Check if output exists\n",
    "outfile = outroot+'trispectrum_fisher%d_(%d,%d,%d).npy'%(index,len(l_bins)-1,len(l_bins_squeeze)-1,len(L_bins)-1)\n",
    "\n",
    "if os.path.exists(outfile):\n",
    "    print(\"Fisher matrix already computed; exiting!\")\n",
    "    sys.exit()\n",
    "\n",
    "# Load masks\n",
    "smooth_mask = healpy.read_map(root+'smooth_mask%d.fits'%Nside)\n",
    "inpainting_mask = healpy.read_map(root+'inpainting_mask%d.fits'%Nside)\n",
    "\n",
    "# Define S^-1 weighting for each l,m\n",
    "\n",
    "# Interpolate S_l to all ell and m values\n",
    "ls = np.arange(lmax+1)\n",
    "Sl = [Sl_weighting['TT'],Sl_weighting['TE'],Sl_weighting['TB'],Sl_weighting['EE'],Sl_weighting['EB'],Sl_weighting['BB']]\n",
    "Sl_lm = [InterpolatedUnivariateSpline(ls, Sl[i])(base.l_arr) for i in range(len(Sl))]\n",
    "\n",
    "# Compute full matrix of C^XY_lm and C^XY_l\n",
    "Sl_lm_mat = np.moveaxis(np.asarray([[Sl_lm[0],Sl_lm[1],Sl_lm[2]],\n",
    "                                    [Sl_lm[1],Sl_lm[3],Sl_lm[4]],\n",
    "                                    [Sl_lm[2],Sl_lm[4],Sl_lm[5]]]),[2,1,0],[0,2,1])\n",
    "\n",
    "# Check that matrix is well-posed \n",
    "assert (np.linalg.det(Sl_lm_mat)>0).all(), \"Determinant of S_l^{XY} matrix is <= 0; are the input power spectra set correctly?\"\n",
    "\n",
    "# Invert matrix for each l,m\n",
    "inv_Sl_lm_mat = np.moveaxis(np.linalg.inv(Sl_lm_mat),[0,1,2],[2,0,1])\n",
    "\n",
    "########################### WEIGHTING ###########################\n",
    "\n",
    "def inpaint_map(input_map):\n",
    "    \"\"\"\n",
    "    Apply linear inpainting to a map, given an inpainting mask\n",
    "    \"\"\"\n",
    "    \n",
    "    tmp_map = input_map.copy()\n",
    "    \n",
    "    # Zero out inpainting regions \n",
    "    for i in range(len(tmp_map)):\n",
    "        tmp_map[i][inpainting_mask==1] = 0 \n",
    "    \n",
    "    # Perform iterative impainting\n",
    "    for i in range(1000):\n",
    "        for f in range(len(tmp_map)):\n",
    "            inpaint_pix = np.where((tmp_map[f]==0)&(inpainting_mask==1))[0]\n",
    "            if len(inpaint_pix)==0:\n",
    "                break\n",
    "            # Identify four nearest neighbors\n",
    "            neighbors = healpy.get_interp_weights(Nside,inpaint_pix)[0]\n",
    "            tmp_map[f][inpaint_pix] = np.mean(tmp_map[f][neighbors],axis=0)\n",
    "\n",
    "    return tmp_map\n",
    "\n",
    "def applySinv(input_map, input_type='map', output_type='map'):\n",
    "    \"\"\"\n",
    "    Apply the quasi-optimal weighting, S^{-1} to a map. This firstly inpaints small holes in the data, applies a smooth mask, then weights by an ell-dependent factor.\n",
    "    \n",
    "    Note that this is neither diagonal nor invertible. The weighting is given by the inverse of Cl^{XY}_lm = B_l^2 C_l^XY + Kronecker[X,Y] N_l^XX here for beam B_l.\n",
    "    \n",
    "    The code has two input and output options: \"harmonic\" or \"map\", to avoid unnecessary transforms.\n",
    "    \"\"\"\n",
    "    assert input_type in ['harmonic','map'], \"Valid input types are 'harmonic' and 'map' only!\"\n",
    "    assert output_type in ['harmonic','map'], \"Valid output types are 'harmonic' and 'map' only!\"\n",
    "    \n",
    "    ## Transform to real-space, if necessary\n",
    "    if input_type=='harmonic': \n",
    "        input_map = base.to_map(input_map)\n",
    "        \n",
    "    ## Step 1: inpaint the data\n",
    "    tmp_map = inpaint_map(input_map)\n",
    "    \n",
    "    ## Step 2: mask out the large bad regions\n",
    "    tmp_map *= smooth_mask\n",
    "        \n",
    "    ## Step 3: Apply S+N weighting in harmonic space\n",
    "    Cinv_tmp_lm = np.einsum('ijk,jk->ik',base.inv_Cl_lm_mat,base.to_lm(tmp_map),order='C')\n",
    "    \n",
    "    # Return to map-space, if necessary\n",
    "    if output_type=='map': return base.to_map(Cinv_tmp_lm)\n",
    "    else: return Cinv_tmp_lm\n",
    "\n",
    "########################### COMPUTE FISHER ###########################\n",
    "\n",
    "# Initialize trispectrum class\n",
    "\n",
    "tspec = pb.TSpec(base, 1.+0.*mask, applySinv, l_bins, l_bins_squeeze=l_bins_squeeze, L_bins=L_bins, fields=fields, parity=parity)"
   ]
  },
  {
   "cell_type": "code",
   "execution_count": null,
   "id": "51d7100b-1938-443f-8b26-f680e4f1d388",
   "metadata": {},
   "outputs": [
    {
     "name": "stdout",
     "output_type": "stream",
     "text": [
      "Starting Fisher matrix computation\n",
      "Using 6 combination(s) of fields/parities\n",
      "Using a maximum of 1987 bins per field/parity\n",
      "Using a total of 8295 bins\n",
      "# Generating GRFs\n",
      "\n",
      "# Computing Q4 map for S^-1 weighting\n",
      "Weighting maps\n",
      "Creating H maps\n",
      "Computing A-lm fields\n",
      "Computing A-maps\n"
     ]
    }
   ],
   "source": [
    "# Compute Fisher contribution\n",
    "print(\"Starting Fisher matrix computation\")\n",
    "start = time.time()\n",
    "fish = tspec.compute_fisher_contribution(index,verb=True)\n",
    "print(\"Computed Fisher matrix contribution after %.2f s\"%(time.time()-start))"
   ]
  },
  {
   "cell_type": "code",
   "execution_count": 57,
   "id": "abfb5415-05bb-475a-81e7-4ad27739ba6f",
   "metadata": {},
   "outputs": [],
   "source": [
    "np.save(outfile,fish)\n",
    "print(\"Output saved to %s; exiting after %.2f seconds\"%(outfile,time.time()-init))"
   ]
  },
  {
   "cell_type": "code",
   "execution_count": null,
   "id": "b81ebeab-ac23-429c-8450-5ccf2029b565",
   "metadata": {},
   "outputs": [],
   "source": []
  }
 ],
 "metadata": {
  "kernelspec": {
   "display_name": "mpikernel3",
   "language": "python",
   "name": "mpikernel3"
  },
  "language_info": {
   "codemirror_mode": {
    "name": "ipython",
    "version": 3
   },
   "file_extension": ".py",
   "mimetype": "text/x-python",
   "name": "python",
   "nbconvert_exporter": "python",
   "pygments_lexer": "ipython3",
   "version": "3.9.15"
  }
 },
 "nbformat": 4,
 "nbformat_minor": 5
}
